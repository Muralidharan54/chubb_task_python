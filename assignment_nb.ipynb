{
 "cells": [
  {
   "cell_type": "markdown",
   "metadata": {},
   "source": [
    "Python Weekly Assignment – 20-Oct-24\n",
    "Last Date for Submission : 23-Oct-24 ( Before 12:00 PM )"
   ]
  },
  {
   "cell_type": "code",
   "execution_count": 1,
   "metadata": {},
   "outputs": [],
   "source": [
    "import pandas as pd\n",
    "import numpy as np\n",
    "from collections import OrderedDict\n",
    "import pickle \n",
    "import re\n",
    "import os\n"
   ]
  },
  {
   "cell_type": "markdown",
   "metadata": {},
   "source": [
    "1. Analyzing Student Performance\n",
    "A school administrator wants to analyze students' scores from a file that contains\n",
    "records of students and their exam results in the format name,score. Unfortunately,\n",
    "sometimes the file might be missing, corrupted, or contain invalid data. Write a\n",
    "program that reads the file, calculates the average score, and lists students who scored\n",
    "above average. Ensure proper handling of missing files and malformed data"
   ]
  },
  {
   "cell_type": "code",
   "execution_count": 2,
   "metadata": {},
   "outputs": [
    {
     "name": "stdout",
     "output_type": "stream",
     "text": [
      "Average is: 73.75 \n",
      "Students who scored above average\n",
      "efg 75\n",
      "ghi 90\n"
     ]
    }
   ],
   "source": [
    "try:\n",
    "    with open('q1_score.txt','r') as f:\n",
    "        sum,cnt=0,0\n",
    "        marks=[]\n",
    "        for data in f.readlines():\n",
    "            cnt+=1\n",
    "            name,mark=data.split()\n",
    "            marks.append((name,int(mark)))\n",
    "            sum+=int(mark)\n",
    "        avg=sum/cnt \n",
    "        print(f\"Average is: {avg:.2f} \\nStudents who scored above average\")\n",
    "\n",
    "        for i in marks:\n",
    "            if i[1]>avg:\n",
    "                print(i[0],i[1])\n",
    "        f.close()\n",
    "except FileNotFoundError:\n",
    "    print(\"File not found\")\n",
    "except (ValueError, AttributeError, TypeError):\n",
    "    print(\"File is corrupted\")\n",
    "\n",
    "        \n"
   ]
  },
  {
   "cell_type": "markdown",
   "metadata": {},
   "source": [
    "2. Product Availability in a Store\n",
    "You work for an online store, and you need to help the operations team clean up their\n",
    "product list. They have a list of product IDs that contains duplicates due to system\n",
    "errors. Write a function that takes this list, removes duplicates, sorts the product IDs,\n",
    "and returns the cleaned list. Make sure your function can handle an empty product list\n",
    "input.\n"
   ]
  },
  {
   "cell_type": "code",
   "execution_count": 3,
   "metadata": {},
   "outputs": [
    {
     "name": "stdout",
     "output_type": "stream",
     "text": [
      "1 2 3 4 5 7 8\n"
     ]
    }
   ],
   "source": [
    "def clean_product_list(l):\n",
    "    if len(l)==0:\n",
    "        print(\"Product list is empty\")\n",
    "        return \n",
    "    l=list(set(l))\n",
    "    l.sort()\n",
    "    return l \n",
    "    \n",
    "product_list=[1,2,3,4,5,1,3,5,7,3,2,8]\n",
    "cleaned_list=clean_product_list(product_list)\n",
    "if (cleaned_list!=None):\n",
    "    print(*cleaned_list)"
   ]
  },
  {
   "cell_type": "markdown",
   "metadata": {},
   "source": [
    "3. Organizing Sales Data\n",
    "A small business owner has sales data in the form of tuples, each containing the\n",
    "customer’s name and the amount they spent (e.g., ('Alice', 200)). Write a program\n",
    "that stores this data in a dictionary, where the customer’s name is the key and the\n",
    "amount spent is the value. If a customer appears more than once, update their total\n",
    "spending. Print the customer data sorted by their names."
   ]
  },
  {
   "cell_type": "code",
   "execution_count": 4,
   "metadata": {},
   "outputs": [
    {
     "name": "stdout",
     "output_type": "stream",
     "text": [
      "Abc 250\n",
      "def 240\n",
      "efg 60\n"
     ]
    }
   ],
   "source": [
    "def tuple_to_dict(l):\n",
    "    d=dict()\n",
    "    for i in l:\n",
    "        if d.get(i[0],None)==None:\n",
    "            d[i[0]]=i[1]\n",
    "        else:\n",
    "            d[i[0]]+=i[1]\n",
    "    return OrderedDict(d)\n",
    "\n",
    "l=[(\"Abc\",100),(\"def\",110),(\"efg\",60),(\"Abc\",150),(\"def\",130)]\n",
    "d=tuple_to_dict(l)\n",
    "for i in sorted(d.keys()):\n",
    "    print(i,d[i])"
   ]
  },
  {
   "cell_type": "markdown",
   "metadata": {},
   "source": [
    "4. Saving User Preferences\n",
    "A mobile app allows users to customize settings like theme (dark/light mode),\n",
    "language, and notification preferences. Write a program that saves a user's preferences\n",
    "using the pickle module and retrieves them when needed. Handle cases where the\n",
    "preferences file is missing or corrupted."
   ]
  },
  {
   "cell_type": "code",
   "execution_count": 5,
   "metadata": {},
   "outputs": [],
   "source": [
    "def save_preferences(preferences,user_name):\n",
    "    #preferences should be in form of dictionary\n",
    "    file_name=f'{user_name}_preferences.pkl'\n",
    "    try:\n",
    "        with open (r'user_preferences/'+file_name,'wb') as w:\n",
    "            pickle.dump(preferences,w)\n",
    "            w.close()\n",
    "    except FileNotFoundError:\n",
    "        print(\"Folder is missing\")\n",
    "    except pickle.PicklingError:\n",
    "        print(\"Error while pickling preferences\")\n",
    "\n",
    "\n",
    "def retrieve_preferences(user_name):\n",
    "    file_name=f'{user_name}_preferences.pkl'\n",
    "    try:\n",
    "        with open(r'user_preferences/'+file_name,'rb') as r:\n",
    "            preferences=pickle.load(r)\n",
    "            r.close()\n",
    "            return preferences\n",
    "    except FileNotFoundError:\n",
    "        print(\"User preferences not found\")\n",
    "    except pickle.UnpicklingError:\n",
    "        print(\"Error in unpickling\")\n",
    "\n"
   ]
  },
  {
   "cell_type": "code",
   "execution_count": 6,
   "metadata": {},
   "outputs": [],
   "source": [
    "pref={\"theme\":\"dark\",\"notfications\":\"on\",\"language\":\"english\"}\n",
    "save_preferences(pref,\"muralidharan_v\")"
   ]
  },
  {
   "cell_type": "code",
   "execution_count": 7,
   "metadata": {},
   "outputs": [
    {
     "name": "stdout",
     "output_type": "stream",
     "text": [
      "{'theme': 'dark', 'notfications': 'on', 'language': 'english'}\n"
     ]
    }
   ],
   "source": [
    "pref_retrieved=retrieve_preferences(\"muralidharan_v\")\n",
    "print(pref_retrieved)"
   ]
  },
  {
   "cell_type": "markdown",
   "metadata": {},
   "source": [
    "5. Analyzing Employee Salaries\n",
    "A company’s HR department maintains employee records in a CSV file, which\n",
    "includes details like employee name, department, and salary. You’ve been tasked with\n",
    "analyzing this data to calculate the total and average salary per department. Write a\n",
    "program that reads the CSV using pandas, computes the required data, and saves the\n",
    "results to a new CSV. Handle situations where the file is missing or contains invalid\n",
    "data.\n"
   ]
  },
  {
   "cell_type": "code",
   "execution_count": 8,
   "metadata": {},
   "outputs": [
    {
     "name": "stdout",
     "output_type": "stream",
     "text": [
      "    department  Total_Salary  Average_Salary\n",
      "0  Engineering        360000    90000.000000\n",
      "1      Finance        160000    80000.000000\n",
      "2           HR        161000    53666.666667\n",
      "3    Marketing        200000    66666.666667\n",
      "4        Sales        219000    73000.000000\n",
      "Analysis saved to department_salary_analysis.csv\n"
     ]
    }
   ],
   "source": [
    "def analyze_employee_data(input_file, output_file):\n",
    "    try:\n",
    "        df = pd.read_csv(input_file)\n",
    "        \n",
    "        if 'department' not in df.columns or 'salary' not in df.columns:\n",
    "            raise ValueError(\"Required columns missing: 'Department' and 'Salary'\")\n",
    "        \n",
    "        df['salary'] = pd.to_numeric(df['salary'], errors='coerce')\n",
    "        df.dropna(subset=['salary'], inplace=True)\n",
    "        \n",
    "        result = df.groupby('department')['salary'].agg(Total_Salary='sum', Average_Salary='mean').reset_index()\n",
    "        print(result)\n",
    "        result.to_csv(output_file, index=False)\n",
    "        print(f\"Analysis saved to {output_file}\")\n",
    "    \n",
    "    except FileNotFoundError:\n",
    "        print(f\"File not found: {input_file}\")\n",
    "    except ValueError as e:\n",
    "        print(f\"Error: {e}\")\n",
    "    except Exception as e:\n",
    "        print(f\"An unexpected error occurred: {e}\")\n",
    "\n",
    "input_file = 'employee_data.csv'\n",
    "output_file = 'department_salary_analysis.csv'\n",
    "analyze_employee_data(input_file, output_file)\n"
   ]
  },
  {
   "cell_type": "markdown",
   "metadata": {},
   "source": [
    "6. Validating User Signups\n",
    "Your company’s website allows users to sign up with their email addresses. Write a\n",
    "Python program that checks if the provided email addresses are valid using regular\n",
    "expressions. Make sure the emails follow the proper format (e.g.,\n",
    "username@domain.com). Your program should filter out invalid emails from a given\n",
    "list of signups."
   ]
  },
  {
   "cell_type": "code",
   "execution_count": 9,
   "metadata": {},
   "outputs": [
    {
     "name": "stdout",
     "output_type": "stream",
     "text": [
      "john_doe123@gmail.com alice.smith@company.co.in mark+newsletter@service.com user_name123@domain.in 123user@domain.com\n"
     ]
    }
   ],
   "source": [
    "def validate_email(email):\n",
    "    # Regular expression to match valid email addresses\n",
    "    pattern=\"^[a-zA-Z0-9][a-zA-Z0-9_\\.+]*@[a-zA-Z]+\\.(com|co\\.in|in)$\"\n",
    "    return re.match(pattern,email) is not None\n",
    "\n",
    "def filter_valid_emails(email_list):\n",
    "    return [email for email in email_list if validate_email(email)]\n",
    "\n",
    "email_list=[\n",
    "\"john_doe123@gmail.com\",\n",
    "\"alice.smith@company.co.in\",\n",
    "\"mark+newsletter@service.com\",\n",
    "\"user_name123@domain.in\",\n",
    "\"123user@domain.com\",\n",
    "\"john@company..com\",\n",
    "\"username@domain@com\",\n",
    "\"alice@domain.c\" ]\n",
    "\n",
    "print(*filter_valid_emails(email_list))"
   ]
  },
  {
   "cell_type": "markdown",
   "metadata": {},
   "source": [
    "7. Currency Conversion Calculator\n",
    "You’re building a currency conversion tool for a travel website. The tool should take\n",
    "two user inputs: the amount to convert and the conversion rate. Implement a program\n",
    "that handles cases where the user enters invalid data, such as non-numeric input or a\n",
    "conversion rate of zero, and provides appropriate error messages"
   ]
  },
  {
   "cell_type": "code",
   "execution_count": 10,
   "metadata": {},
   "outputs": [
    {
     "name": "stdout",
     "output_type": "stream",
     "text": [
      "Converted amount: 25.00\n"
     ]
    }
   ],
   "source": [
    "def currency_conversion():\n",
    "    try:\n",
    "        amount = float(input(\"Enter the amount to convert: \"))\n",
    "        conversion_rate = float(input(\"Enter the conversion rate: \"))\n",
    "        \n",
    "        if conversion_rate == 0:\n",
    "            print(\"Error: Conversion rate cannot be zero.\")\n",
    "            return\n",
    "        \n",
    "        converted_amount = amount * conversion_rate\n",
    "        print(f\"Converted amount: {converted_amount:.2f}\")\n",
    "    \n",
    "    except ValueError:\n",
    "        print(\"Error: Please enter valid numeric input for the amount and conversion rate.\")\n",
    "\n",
    "currency_conversion()\n"
   ]
  },
  {
   "cell_type": "markdown",
   "metadata": {},
   "source": [
    "8. Movie Ratings Aggregation\n",
    "A movie streaming service collects user ratings for movies. Each movie can be rated\n",
    "on a scale of 1 to 10. Write a program that takes a list of movie ratings and uses list\n",
    "comprehension to filter out ratings below 5 (bad ratings) and return a new list of good\n",
    "ratings squared. Handle cases where no ratings are provided."
   ]
  },
  {
   "cell_type": "code",
   "execution_count": 11,
   "metadata": {},
   "outputs": [
    {
     "name": "stdout",
     "output_type": "stream",
     "text": [
      "abc 49\n",
      "def 64\n",
      "ghi 36\n",
      "url 49\n"
     ]
    }
   ],
   "source": [
    "n=int(input(\"Enter the number of ratings\"))\n",
    "if (n==0):\n",
    "    print(\"No ratings provided\")\n",
    "else:\n",
    "    ratings=[]\n",
    "    for i in range(n):\n",
    "        inp=input().split()\n",
    "        a,b=inp[0],int(inp[1])\n",
    "        ratings.append((a,b))\n",
    "\n",
    "    new_ratings=[ (x[0],x[1]**2) for x in ratings if x[1]>=5]\n",
    "    for i in new_ratings:\n",
    "        print(*i)"
   ]
  },
  {
   "cell_type": "markdown",
   "metadata": {},
   "source": [
    "9. Extracting Contact Information\n",
    "A company stores client data in text files, and some of the records contain phone\n",
    "numbers in inconsistent formats, such as (123) 456-7890 or 123-456-7890. Write a\n",
    "program that reads a text file, uses regular expressions to extract all phone numbers in\n",
    "either format, and prints the list of valid phone numbers."
   ]
  },
  {
   "cell_type": "code",
   "execution_count": 12,
   "metadata": {},
   "outputs": [
    {
     "name": "stdout",
     "output_type": "stream",
     "text": [
      "(123)456-7890, 987-654-3210, (555)123-4567, 9998887777\n"
     ]
    }
   ],
   "source": [
    "file_name=\"q_9_mobile_no.txt\"\n",
    "\n",
    "with open(file_name,'r') as file:\n",
    "    data=file.read()\n",
    "    #print(data)\n",
    "    pattern=r'[0-9(][0-9()-]+[0-9)]'\n",
    "    phone_no= re.findall(pattern, data)\n",
    "    numbers=[no for no in phone_no if re.match(pattern,no)]\n",
    "    print(*numbers,sep=', ')\n",
    "    file.close()"
   ]
  },
  {
   "cell_type": "markdown",
   "metadata": {},
   "source": [
    "10. Removing Duplicate User Data\n",
    "A loyalty program has a list of customer records, each stored as a tuple with the\n",
    "customer’s name and email address (e.g., ('John Doe', 'john@example.com')).\n",
    "Due to an import error, some customers are listed multiple times. Write a Python\n",
    "program that removes duplicate entries using a set and prints the unique list of\n",
    "customers."
   ]
  },
  {
   "cell_type": "code",
   "execution_count": 13,
   "metadata": {},
   "outputs": [],
   "source": [
    "def remove_duplicates(customers):\n",
    "    seen_emails = set()\n",
    "    unique_customers = []\n",
    "\n",
    "    for customer in customers:\n",
    "        name, email = customer\n",
    "        if email not in seen_emails: #here e-mail is used to check as e-mail is an unique entry whereas there could be multiple users with same nae\n",
    "            seen_emails.add(email)\n",
    "            unique_customers.append(customer)\n",
    "    \n",
    "    return unique_customers"
   ]
  },
  {
   "cell_type": "markdown",
   "metadata": {},
   "source": [
    "11. Product Inventory Analysis\n",
    "Your company manages product inventory through a CSV file that contains product\n",
    "ID, name, and quantity available. Write a program using pandas to filter products\n",
    "with low stock (less than 10 units). Handle potential issues like a missing or\n",
    "malformed CSV file, or missing columns in the data."
   ]
  },
  {
   "cell_type": "code",
   "execution_count": 14,
   "metadata": {},
   "outputs": [
    {
     "name": "stdout",
     "output_type": "stream",
     "text": [
      "    product_id  quantity      product_name  unit_price\n",
      "1            2         8    Wireless Mouse         299\n",
      "3            4         5          Keyboard         499\n",
      "5            6         3        Headphones         899\n",
      "7            8         7        HDMI Cable         159\n",
      "9           10         4        Phone Case         319\n",
      "10          11         9       Memory Card         349\n",
      "12          13         6  Screen Protector         299\n",
      "14          15         2           Charger        1299\n"
     ]
    }
   ],
   "source": [
    "def filter_low_stock(file_path):\n",
    "    try:\n",
    "        df = pd.read_csv(file_path)\n",
    "        if all(col in df.columns for col in ['product_id', 'product_name', 'quantity']):\n",
    "            low_stock = df[df['quantity'] < 10]\n",
    "            return low_stock\n",
    "        else:\n",
    "            raise ValueError(\"Missing required columns: 'product_id', 'product_name', 'quantity'\")\n",
    "    except FileNotFoundError:\n",
    "        print(\"Error: CSV file not found.\")\n",
    "    except pd.errors.EmptyDataError:\n",
    "        print(\"Error: CSV file is empty or malformed.\")\n",
    "    except ValueError as ve:\n",
    "        print(f\"Error: {ve}\")\n",
    "\n",
    "low_stock_df = filter_low_stock('inventory.csv')\n",
    "if low_stock_df is not None:\n",
    "    print(low_stock_df)\n"
   ]
  },
  {
   "cell_type": "markdown",
   "metadata": {},
   "source": [
    "12. Statistical Analysis for a Sports Team\n",
    "A sports analyst wants to analyze the performance statistics of players on a team.\n",
    "Each player’s performance over the season is recorded as an array of scores. Write a\n",
    "program that generates a large array of player scores using numpy, and calculates the\n",
    "mean, median, variance, and standard deviation of the players’ performance."
   ]
  },
  {
   "cell_type": "code",
   "execution_count": 15,
   "metadata": {},
   "outputs": [
    {
     "name": "stdout",
     "output_type": "stream",
     "text": [
      "Mean Score: 50.13\n",
      "Median Score: 51.00\n",
      "Variance: 816.66\n",
      "Standard Deviation: 28.58\n"
     ]
    }
   ],
   "source": [
    "scores = np.random.randint(0, 100, size=1000)  \n",
    "\n",
    "mean_score = np.mean(scores)\n",
    "median_score = np.median(scores)\n",
    "variance_score = np.var(scores)\n",
    "std_deviation_score = np.std(scores)\n",
    "\n",
    "print(f\"Mean Score: {mean_score:.2f}\")\n",
    "print(f\"Median Score: {median_score:.2f}\")\n",
    "print(f\"Variance: {variance_score:.2f}\")\n",
    "print(f\"Standard Deviation: {std_deviation_score:.2f}\")"
   ]
  },
  {
   "cell_type": "markdown",
   "metadata": {},
   "source": [
    "13. Managing Task Lists\n",
    "A task management system allows users to create and store to-do lists. Write a Python\n",
    "program that stores a user's list of tasks using pickle, allowing them to save and\n",
    "retrieve their tasks later. Ensure proper exception handling if the data file becomes\n",
    "corrupted or is missing."
   ]
  },
  {
   "cell_type": "code",
   "execution_count": 16,
   "metadata": {},
   "outputs": [
    {
     "name": "stdout",
     "output_type": "stream",
     "text": [
      "['Buy groceries', 'Read a book', 'Complete project']\n"
     ]
    }
   ],
   "source": [
    "folder = 'to_do_list'\n",
    "if not os.path.exists(folder):\n",
    "    os.makedirs(folder)\n",
    "\n",
    "file_path = os.path.join(folder, 'tasks.pkl')\n",
    "\n",
    "def save_tasks(tasks):\n",
    "    try:\n",
    "        with open(file_path, 'wb') as file:\n",
    "            pickle.dump(tasks, file)\n",
    "    except FileNotFoundError:\n",
    "        print(\"Folder is missing\")\n",
    "    except pickle.PicklingError:\n",
    "        print(\"Error while pickling preferences\")\n",
    "\n",
    "def load_tasks():\n",
    "    try:\n",
    "        if not os.path.exists(file_path):\n",
    "            print(\"No saved tasks found.\")\n",
    "            return []\n",
    "        with open(file_path, 'rb') as file:\n",
    "            tasks = pickle.load(file)\n",
    "            return tasks\n",
    "    except FileNotFoundError:\n",
    "        print(\"To-Do list not found\")\n",
    "        return []\n",
    "    except pickle.UnpicklingError:\n",
    "        print(\"Error in unpickling\")\n",
    "        return []\n",
    "\n",
    "tasks = [\"Buy groceries\", \"Read a book\", \"Complete project\"]\n",
    "save_tasks(tasks)\n",
    "\n",
    "retrieved_tasks = load_tasks()\n",
    "print(retrieved_tasks)  \n"
   ]
  },
  {
   "cell_type": "markdown",
   "metadata": {},
   "source": [
    "14. Social Media Post Analysis\n",
    "A social media platform needs to analyze hashtags used in posts. Write a Python\n",
    "program that extracts all unique hashtags from a given post using regular expressions.\n",
    "Ensure that the hashtags only contain letters and numbers (e.g., #Python3) and print\n",
    "them in a sorted list"
   ]
  },
  {
   "cell_type": "code",
   "execution_count": 17,
   "metadata": {},
   "outputs": [
    {
     "name": "stdout",
     "output_type": "stream",
     "text": [
      "#AI #CodingLife #GeekLife #Learning #Programming #Python #Tech\n"
     ]
    }
   ],
   "source": [
    "file_name=\"q_14_post_file.txt\" #let us extract data from following file\n",
    "\n",
    "with open(file_name,'r') as file:\n",
    "    data=file.read()\n",
    "    pattern=r\"#[0-9a-zA-Z]+\"\n",
    "    hashtags = re.findall(pattern, data)\n",
    "    tags=[tag for tag in hashtags if re.match(pattern,tag)]\n",
    "    tags.sort()\n",
    "    print(*tags)\n",
    "    file.close()\n"
   ]
  }
 ],
 "metadata": {
  "kernelspec": {
   "display_name": "base",
   "language": "python",
   "name": "python3"
  },
  "language_info": {
   "codemirror_mode": {
    "name": "ipython",
    "version": 3
   },
   "file_extension": ".py",
   "mimetype": "text/x-python",
   "name": "python",
   "nbconvert_exporter": "python",
   "pygments_lexer": "ipython3",
   "version": "3.11.7"
  }
 },
 "nbformat": 4,
 "nbformat_minor": 2
}
